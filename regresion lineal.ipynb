{
 "cells": [
  {
   "cell_type": "code",
   "execution_count": 2,
   "metadata": {},
   "outputs": [],
   "source": [
    "import numpy as np\n",
    "import matplotlib.pyplot as plt"
   ]
  },
  {
   "cell_type": "code",
   "execution_count": 3,
   "metadata": {},
   "outputs": [],
   "source": [
    "def estimate_b0_b1(x, y):\n",
    "    n = np.size(x)\n",
    "    \n",
    "    mean_x = np.mean(x)\n",
    "    mean_y = np.mean(y)\n",
    "    \n",
    "    #calcular sumatoria de xy y xx\n",
    "    \n",
    "    sumatoria_xy= np.sum((x-mean_x)*(y-mean_y))\n",
    "    sumatoria_xx= np.sum((x-mean_x)**2)\n",
    "    \n",
    "    b1= sumatoria_xy/sumatoria_xx\n",
    "    b0= mean_y-b1*mean_x\n",
    "    \n",
    "    return(b0, b1)"
   ]
  },
  {
   "cell_type": "code",
   "execution_count": 4,
   "metadata": {},
   "outputs": [],
   "source": [
    "def plot_regression(x, y, b):\n",
    "    plt.scatter(x, y, color = \"g\", marker = \"o\", s=100)\n",
    "    \n",
    "    y_pred = b[0]+b[1]*x\n",
    "    plt.plot(x, y_pred, color = \"b\")\n",
    "    \n",
    "    plt.xlabel(\"x-independiente\")\n",
    "    plt.ylabel(\"y-dependiente\")\n",
    "    plt.show()"
   ]
  },
  {
   "cell_type": "code",
   "execution_count": 5,
   "metadata": {},
   "outputs": [
    {
     "name": "stdout",
     "output_type": "stream",
     "text": [
      "Los valores b0 = 53.32967032967032, b1 =2.480769230769231\n"
     ]
    },
    {
     "data": {
      "image/png": "[encoded data removed]",
      "text/plain": [
       "<Figure size 432x288 with 1 Axes>"
      ]
     },
     "metadata": {
      "needs_background": "light"
     },
     "output_type": "display_data"
    }
   ],
   "source": [
    "#Codigo MAIN\n",
    "def main():\n",
    "    #DATASET\n",
    "    x = np.array([3,6,5,5,3,4,9,8,9,7,6,5,8,6])\n",
    "    y = np.array([55,68,64,66,62,64,74,75,73,69,73,68,73,71])\n",
    "\n",
    "    #Obtenemos b1 y b2\n",
    "    b = estimate_b0_b1(x, y)\n",
    "    print(\"Los valores b0 = {}, b1 ={}\".format(b[0], b[1]))\n",
    "\n",
    "    #Graficamos nuestra linea de regresion\n",
    "    plot_regression(x, y, b)\n",
    "\n",
    "if __name__== \"__main__\":\n",
    "    main()\n"
   ]
  },
  {
   "cell_type": "code",
   "execution_count": 7,
   "metadata": {},
   "outputs": [],
   "source": [
    "from bokeh.plotting import figure, output_file, show"
   ]
  },
  {
   "cell_type": "code",
   "execution_count": null,
   "metadata": {},
   "outputs": [],
   "source": []
  }
 ],
 "metadata": {
  "kernelspec": {
   "display_name": "Python 3",
   "language": "python",
   "name": "python3"
  },
  "language_info": {
   "codemirror_mode": {
    "name": "ipython",
    "version": 3
   },
   "file_extension": ".py",
   "mimetype": "text/x-python",
   "name": "python",
   "nbconvert_exporter": "python",
   "pygments_lexer": "ipython3",
   "version": "3.7.6"
  }
 },
 "nbformat": 4,
 "nbformat_minor": 2
}
