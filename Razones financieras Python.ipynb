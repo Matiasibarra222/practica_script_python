{
 "cells": [
  {
   "cell_type": "code",
   "execution_count": 51,
   "metadata": {},
   "outputs": [],
   "source": [
    "import pandas as pd\n",
    "import numpy as np\n",
    "import datetime"
   ]
  },
  {
   "cell_type": "code",
   "execution_count": 52,
   "metadata": {},
   "outputs": [],
   "source": [
    "class Razon_de_liquidez : \n",
    "    def __init__ (self, activos_circulantes, pasivos_corto_plazo, inventario):\n",
    "        self.activos_circulantes = activos_circulantes\n",
    "        self.pasivos_corto_plazo =pasivos_corto_plazo\n",
    "        self.inventario = inventario\n",
    "    def __str__(self):\n",
    "        cadena = (f\"mis activos circulantes son: {self.activos_circulantes}, mis pasivos son {self.pasivos_corto_plazo}, mi inventario es {self.inventario}\")\n",
    "        return cadena\n",
    "    def main(self):\n",
    "        print(\"Razon circulante: \\n\")\n",
    "        razon1 = self.razon_circulante(True)\n",
    "        print(\"=\"*30,\"\\n\")\n",
    "        print(\"Prueba del acido: \\n\")\n",
    "        razon2= self.prueba_acido()\n",
    "        print(\"=\"*30,\"\\n\")\n",
    "        print(\"Capital de trabajo: \\n\")\n",
    "        razon3= self.capital_trabajo()\n",
    "        print(\"=\"*30,\"\\n\")\n",
    "        \n",
    "        return razon1, razon2, razon3\n",
    "        \n",
    "    def razon_circulante(self, interpretacion = False):\n",
    "        razon = round(self.activos_circulantes/self.pasivos_corto_plazo,2)\n",
    "        if razon > 1 and interpretacion == True:\n",
    "            print(f\"La razon es {razon}: Puede ser saludable\")\n",
    "            print(f\"Por cada peso de deuda a corto plazon contamos con {razon} de activo circulante \\nesto quiere decir ${round(razon -1,2)} pesos adicional\")\n",
    "        return razon\n",
    "        \n",
    "    def prueba_acido(self):\n",
    "        razon_circulante = self.razon_circulante()\n",
    "        razon = round((self.activos_circulantes - self.inventario )/self.pasivos_corto_plazo,2)\n",
    "        print(\"Recuerda que le quitamos el inventario porque es de dificl liquidez\\nnos aseguramos pagar nuestra deuda sin realizar ventas \\n\")\n",
    "        if razon >= 1:\n",
    "            print(f\"La razon es {razon}: Puede ser saludable\")\n",
    "            print(f\"Por cada peso de deuda a corto plazon contamos con {razon} de activo circulante \\nesto quiere decir ${round(razon -1,2)} pesos adicional\")\n",
    "    \n",
    "        print(f\"\\n{100 - 100*razon/razon_circulante}% de nuestros activos circulantes pertenece al inventario\")\n",
    "        return razon\n",
    "\n",
    "    def capital_trabajo(self):\n",
    "        razon = self.activos_circulantes-self.pasivos_corto_plazo\n",
    "        print(f\"El dinero disponible una vez acabemos con las deudas es de ${razon}\")\n",
    "        print(\"recuerda que puedes usar este dinero para invertir\")\n",
    "        return razon\n"
   ]
  },
  {
   "cell_type": "code",
   "execution_count": 53,
   "metadata": {},
   "outputs": [],
   "source": [
    "def to_table(tabla):\n",
    "    now = datetime.datetime.now().strftime(\"%Y_%m_%d\")\n",
    "    df = pd.DataFrame(tabla, index=[\"liquidez\",\"rapida\",\"capital\"])\n",
    "    df.to_excel(f\"tabla{now}.xlsx\")"
   ]
  },
  {
   "cell_type": "code",
   "execution_count": 23,
   "metadata": {
    "collapsed": true
   },
   "outputs": [
    {
     "name": "stdout",
     "output_type": "stream",
     "text": [
      "Razon circulante: \n",
      "\n",
      "La razon es 1.88: Puede ser saludable\n",
      "Por cada peso de deuda a corto plazon contamos con 1.88 de activo circulante \n",
      "esto quiere decir $0.88 pesos adicional\n",
      "============================== \n",
      "\n",
      "Prueba del acido: \n",
      "\n",
      "Recuerda que le quitamos el inventario porque es de dificl liquidez\n",
      "nos aseguramos pagar nuestra deuda sin realizar ventas \n",
      "\n",
      "La razon es 1.22: Puede ser saludable\n",
      "Por cada peso de deuda a corto plazon contamos con 1.22 de activo circulante \n",
      "esto quiere decir $0.22 pesos adicional\n",
      "\n",
      "35.1063829787234% de nuestros activos circulantes pertenece al inventario\n",
      "============================== \n",
      "\n",
      "Capital de trabajo: \n",
      "\n",
      "El dinero disponible una vez acabemos con las deudas es de $7950\n",
      "recuerda que puedes usar este dinero para invertir\n",
      "============================== \n",
      "\n",
      "Razon circulante: \n",
      "\n",
      "La razon es 1.74: Puede ser saludable\n",
      "Por cada peso de deuda a corto plazon contamos con 1.74 de activo circulante \n",
      "esto quiere decir $0.74 pesos adicional\n",
      "============================== \n",
      "\n",
      "Prueba del acido: \n",
      "\n",
      "Recuerda que le quitamos el inventario porque es de dificl liquidez\n",
      "nos aseguramos pagar nuestra deuda sin realizar ventas \n",
      "\n",
      "La razon es 1.19: Puede ser saludable\n",
      "Por cada peso de deuda a corto plazon contamos con 1.19 de activo circulante \n",
      "esto quiere decir $0.19 pesos adicional\n",
      "\n",
      "31.60919540229885% de nuestros activos circulantes pertenece al inventario\n",
      "============================== \n",
      "\n",
      "Capital de trabajo: \n",
      "\n",
      "El dinero disponible una vez acabemos con las deudas es de $9300\n",
      "recuerda que puedes usar este dinero para invertir\n",
      "============================== \n",
      "\n",
      "Razon circulante: \n",
      "\n",
      "La razon es 1.79: Puede ser saludable\n",
      "Por cada peso de deuda a corto plazon contamos con 1.79 de activo circulante \n",
      "esto quiere decir $0.79 pesos adicional\n",
      "============================== \n",
      "\n",
      "Prueba del acido: \n",
      "\n",
      "Recuerda que le quitamos el inventario porque es de dificl liquidez\n",
      "nos aseguramos pagar nuestra deuda sin realizar ventas \n",
      "\n",
      "La razon es 1.24: Puede ser saludable\n",
      "Por cada peso de deuda a corto plazon contamos con 1.24 de activo circulante \n",
      "esto quiere decir $0.24 pesos adicional\n",
      "\n",
      "30.72625698324022% de nuestros activos circulantes pertenece al inventario\n",
      "============================== \n",
      "\n",
      "Capital de trabajo: \n",
      "\n",
      "El dinero disponible una vez acabemos con las deudas es de $9900\n",
      "recuerda que puedes usar este dinero para invertir\n",
      "============================== \n",
      "\n",
      "Razon circulante: \n",
      "\n",
      "La razon es 1.55: Puede ser saludable\n",
      "Por cada peso de deuda a corto plazon contamos con 1.55 de activo circulante \n",
      "esto quiere decir $0.55 pesos adicional\n",
      "============================== \n",
      "\n",
      "Prueba del acido: \n",
      "\n",
      "Recuerda que le quitamos el inventario porque es de dificl liquidez\n",
      "nos aseguramos pagar nuestra deuda sin realizar ventas \n",
      "\n",
      "La razon es 1.14: Puede ser saludable\n",
      "Por cada peso de deuda a corto plazon contamos con 1.14 de activo circulante \n",
      "esto quiere decir $0.14 pesos adicional\n",
      "\n",
      "26.451612903225822% de nuestros activos circulantes pertenece al inventario\n",
      "============================== \n",
      "\n",
      "Capital de trabajo: \n",
      "\n",
      "El dinero disponible una vez acabemos con las deudas es de $9600\n",
      "recuerda que puedes usar este dinero para invertir\n",
      "============================== \n",
      "\n"
     ]
    }
   ],
   "source": [
    "tabla_1 = {\"2009\": Razon_de_liquidez(16950,9000,6000).main(), \"2010\": Razon_de_liquidez(21900,12600,6900).main(),\"2011\":Razon_de_liquidez(22500,12600,6900).main(), \"2012\":Razon_de_liquidez(27000,17400,7200).main()}"
   ]
  },
  {
   "cell_type": "code",
   "execution_count": 54,
   "metadata": {},
   "outputs": [],
   "source": [
    "tabla(tabla_1)"
   ]
  },
  {
   "cell_type": "code",
   "execution_count": 168,
   "metadata": {
    "collapsed": true
   },
   "outputs": [
    {
     "name": "stdout",
     "output_type": "stream",
     "text": [
      "Razon circulante: \n",
      "\n",
      "La razon es 2.0: Puede ser saludable\n",
      "Por cada peso de deuda a corto plazon contamos con 2.0 de activo circulante \n",
      "esto quiere decir $1.0 pesos adicional\n",
      "============================== \n",
      "\n",
      "Prueba del acido: \n",
      "\n",
      "Recuerda que le quitamos el inventario porque es de dificl liquidez\n",
      "nos aseguramos pagar nuestra deuda sin realizar ventas \n",
      "\n",
      "La razon es 1.5: Puede ser saludable\n",
      "Por cada peso de deuda a corto plazon contamos con 1.5 de activo circulante \n",
      "esto quiere decir $0.5 pesos adicional\n",
      "\n",
      "25.0% de nuestros activos circulantes pertenece al inventario\n",
      "============================== \n",
      "\n",
      "Capital de trabajo: \n",
      "\n",
      "El dinero disponible una vez acabemos con las deudas es de $1\n",
      "recuerda que puedes usar este dinero para invertir\n",
      "============================== \n",
      "\n"
     ]
    }
   ],
   "source": [
    "razones_1= Razon_de_liquidez(2,1,0.5)\n",
    "circulante, acido, capital = razones_1.main()"
   ]
  },
  {
   "cell_type": "code",
   "execution_count": 9,
   "metadata": {},
   "outputs": [],
   "source": [
    "class Razon_de_actividad:\n",
    "    def __init__(self , ventas, costo_de_ventas, cuentas_por_cobrar, inventario,dias_año=365): \n",
    "        self.ventas = ventas\n",
    "        self.costo_de_ventas =costo_de_ventas\n",
    "        self.cuentas_por_cobrar = cuentas_por_cobrar\n",
    "        self.inventario = inventario\n",
    "        self.dias_año = dias_año\n",
    "    def main(self):\n",
    "        print(\"Rotacion cuentas por cobrar: \\n\")\n",
    "        razon1 = self.rotacion_cpc(True)\n",
    "        print(\"=\"*30,\"\\n\")\n",
    "        print(\"Dias de cobranza: \\n\")\n",
    "        razon2= self.dias_de_cobranzas()\n",
    "        print(\"=\"*30,\"\\n\")\n",
    "        print(\"Rotacion de inventario: \\n\")\n",
    "        razon3= self.rotacion_de_inventario(True)\n",
    "        print(\"=\"*30,\"\\n\")\n",
    "        print(\"Dias de inventario: \\n\")\n",
    "        razon4= self.dias_de_inventario()\n",
    "        print(\"=\"*30,\"\\n\")\n",
    "        \n",
    "        return razon1, razon2, razon3, razon4\n",
    "    def rotacion_cpc(self, interpretacion = False):\n",
    "        razon = round(self.ventas/self.cuentas_por_cobrar,2)\n",
    "        if interpretacion == True:\n",
    "            print(f\"Somo capaces de cobrar {razon} lo vendido en un año.\\nDe todo el credito logre cobra {razon} veces\")\n",
    "        return razon\n",
    "    \n",
    "    def dias_de_cobranzas(self):\n",
    "        razon_Rcpc = self.rotacion_cpc()\n",
    "        razon = round(self.dias_año/razon_Rcpc,2)\n",
    "        print(f\"\\nNos demoramos {razon} dias en cobrar nuestras cuentas\")\n",
    "        return razon \n",
    "    \n",
    "    def rotacion_de_inventario(self, interpretacion=False):\n",
    "        razon= round(self.costo_de_ventas/self.inventario, 2)\n",
    "        if interpretacion == True:\n",
    "            print(f\"Rote el inventario {razon} veces en el año\")\n",
    "        return razon\n",
    "    \n",
    "    def dias_de_inventario(self):\n",
    "        razon_ddi = self.rotacion_de_inventario()\n",
    "        razon = round(self.dias_año/razon_ddi,2)\n",
    "        print(f\"tarde {razon} dias en rotar mis inventarios\")\n",
    "        return razon \n",
    "    \n",
    "        \n",
    "        "
   ]
  },
  {
   "cell_type": "code",
   "execution_count": 10,
   "metadata": {},
   "outputs": [],
   "source": [
    "razon2 = Razon_de_actividad(1500, 890, 1380, 100)"
   ]
  },
  {
   "cell_type": "code",
   "execution_count": 11,
   "metadata": {
    "collapsed": true
   },
   "outputs": [
    {
     "name": "stdout",
     "output_type": "stream",
     "text": [
      "Rotacion cuentas por cobrar: \n",
      "\n",
      "Somo capaces de cobrar 1.09 lo vendido en un año.\n",
      "De todo el credito logre cobra 1.09 veces\n",
      "============================== \n",
      "\n",
      "Dias de cobranza: \n",
      "\n",
      "\n",
      "Nos demoramos 334.86 dias en cobrar nuestras cuentas\n",
      "============================== \n",
      "\n",
      "Rotacion de inventario: \n",
      "\n",
      "Rote el inventario 8.9 veces en el año\n",
      "============================== \n",
      "\n",
      "Dias de inventario: \n",
      "\n",
      "tarde 41.01 dias en rotar mis inventarios\n",
      "============================== \n",
      "\n"
     ]
    },
    {
     "data": {
      "text/plain": [
       "(1.09, 334.86, 8.9, 41.01)"
      ]
     },
     "execution_count": 11,
     "metadata": {},
     "output_type": "execute_result"
    }
   ],
   "source": [
    "razon2.main()"
   ]
  },
  {
   "cell_type": "code",
   "execution_count": 12,
   "metadata": {},
   "outputs": [],
   "source": [
    "razon3 = Razon_de_liquidez(2323432,1215, 34242 )"
   ]
  },
  {
   "cell_type": "code",
   "execution_count": 13,
   "metadata": {
    "collapsed": true
   },
   "outputs": [
    {
     "name": "stdout",
     "output_type": "stream",
     "text": [
      "Razon circulante: \n",
      "\n",
      "La razon es 1912.29: Puede ser saludable\n",
      "Por cada peso de deuda a corto plazon contamos con 1912.29 de activo circulante \n",
      "esto quiere decir $1911.29 pesos adicional\n",
      "============================== \n",
      "\n",
      "Prueba del acido: \n",
      "\n",
      "Recuerda que le quitamos el inventario porque es de dificl liquidez\n",
      "nos aseguramos pagar nuestra deuda sin realizar ventas \n",
      "\n",
      "La razon es 1884.11: Puede ser saludable\n",
      "Por cada peso de deuda a corto plazon contamos con 1884.11 de activo circulante \n",
      "esto quiere decir $1883.11 pesos adicional\n",
      "\n",
      "1.473625862186168% de nuestros activos circulantes pertenece al inventario\n",
      "============================== \n",
      "\n",
      "Capital de trabajo: \n",
      "\n",
      "El dinero disponible una vez acabemos con las deudas es de $2322217\n",
      "recuerda que puedes usar este dinero para invertir\n",
      "============================== \n",
      "\n"
     ]
    },
    {
     "data": {
      "text/plain": [
       "(1912.29, 1884.11, 2322217)"
      ]
     },
     "execution_count": 13,
     "metadata": {},
     "output_type": "execute_result"
    }
   ],
   "source": [
    "razon3.main()"
   ]
  }
 ],
 "metadata": {
  "kernelspec": {
   "display_name": "Python 3",
   "language": "python",
   "name": "python3"
  },
  "language_info": {
   "codemirror_mode": {
    "name": "ipython",
    "version": 3
   },
   "file_extension": ".py",
   "mimetype": "text/x-python",
   "name": "python",
   "nbconvert_exporter": "python",
   "pygments_lexer": "ipython3",
   "version": "3.7.7"
  }
 },
 "nbformat": 4,
 "nbformat_minor": 4
}
