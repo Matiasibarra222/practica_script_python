{
 "cells": [
  {
   "cell_type": "code",
   "execution_count": 12,
   "metadata": {},
   "outputs": [],
   "source": [
    "import numpy as np\n",
    "import pandas as pd"
   ]
  },
  {
   "cell_type": "code",
   "execution_count": 13,
   "metadata": {},
   "outputs": [],
   "source": [
    "def iterar(columna,fila,data):\n",
    "    cantidad_de_filas, cantidad_de_columnas = filas_y_columnas(data)\n",
    "    data[fila] = data[fila]/data[fila][columna]\n",
    "    for i in range(cantidad_de_filas):\n",
    "        if i == fila:\n",
    "            continue\n",
    "        data[i]=data[i]+(data[fila]*-data[i][columna])\n",
    "    print(data)\n",
    "    estoy_en_el_optimo(data)\n",
    "    \n",
    "    "
   ]
  },
  {
   "cell_type": "code",
   "execution_count": 14,
   "metadata": {},
   "outputs": [],
   "source": [
    "def crear_dataFrame(columna,fila, data):\n",
    "    nombre_de_fila=[]\n",
    "    nombre_de_columna=[]\n",
    "    for i in range(columna):\n",
    "        nombre = input(f\"inserte el nombre de la columna {i}: \")\n",
    "        nombre_de_columna.append(nombre)\n",
    "    for i in range(fila):\n",
    "        nombre = input(f\"inserte el nombre de la fila {i}: \")\n",
    "        nombre_de_fila.append(nombre)\n",
    "    df = pd.DataFrame(data, columns=nombre_de_columna, index=nombre_de_fila)\n",
    "    return df"
   ]
  },
  {
   "cell_type": "code",
   "execution_count": 15,
   "metadata": {},
   "outputs": [],
   "source": [
    "def filas_y_columnas(data):\n",
    "    return data.shape[0], data.shape[1]"
   ]
  },
  {
   "cell_type": "code",
   "execution_count": 16,
   "metadata": {},
   "outputs": [],
   "source": [
    "def estoy_en_el_optimo(data):\n",
    "    neg=0\n",
    "    for i in range(data.shape[1]):\n",
    "        try:\n",
    "            if data[0][i] <0 : \n",
    "                neg=+1\n",
    "        except TypeError as e:\n",
    "            print(\"no se leer la m\")\n",
    "    if neg == 0:\n",
    "        print(\"Has optimizado la funcion\")\n",
    "    else:\n",
    "        print(\"Aun no estas en el optimo, vuleve a iterar\")\n",
    "        "
   ]
  },
  {
   "cell_type": "code",
   "execution_count": 33,
   "metadata": {},
   "outputs": [
    {
     "data": {
      "text/plain": [
       "array([[ 1, -7, -4,  0,  0,  0,  0],\n",
       "       [ 0,  2,  1,  1,  0,  0, 20],\n",
       "       [ 0,  1,  1,  0,  1,  0, 18],\n",
       "       [ 0,  1,  0,  0,  0,  1,  8]])"
      ]
     },
     "execution_count": 33,
     "metadata": {},
     "output_type": "execute_result"
    }
   ],
   "source": [
    "tabla_1 = np.array([[1,-7,-4,0,0,0,0],[0,2,1,1,0,0,20],[0,1,1,0,1,0,18],[0,1,0,0,0,1,8]])\n",
    "tabla_1\n"
   ]
  },
  {
   "cell_type": "code",
   "execution_count": 34,
   "metadata": {},
   "outputs": [
    {
     "name": "stdout",
     "output_type": "stream",
     "text": [
      "[[ 1  0 -4  0  0  7 56]\n",
      " [ 0  0  1  1  0 -2  4]\n",
      " [ 0  0  1  0  1 -1 10]\n",
      " [ 0  1  0  0  0  1  8]]\n",
      "estamos evaluando el valor:  1\n",
      "estamos evaluando el valor:  0\n",
      "estamos evaluando el valor:  -4\n",
      "el valor del contador es:  1\n",
      "estamos evaluando el valor:  0\n",
      "estamos evaluando el valor:  0\n",
      "estamos evaluando el valor:  7\n",
      "estamos evaluando el valor:  56\n",
      "Aun no estas en el optimo, vuleve a iterar\n"
     ]
    }
   ],
   "source": [
    "iterar(1,3, tabla_1)"
   ]
  },
  {
   "cell_type": "code",
   "execution_count": 35,
   "metadata": {},
   "outputs": [
    {
     "name": "stdout",
     "output_type": "stream",
     "text": [
      "[[ 1  0  0  4  0 -1 72]\n",
      " [ 0  0  1  1  0 -2  4]\n",
      " [ 0  0  0 -1  1  1  6]\n",
      " [ 0  1  0  0  0  1  8]]\n",
      "estamos evaluando el valor:  1\n",
      "estamos evaluando el valor:  0\n",
      "estamos evaluando el valor:  0\n",
      "estamos evaluando el valor:  4\n",
      "estamos evaluando el valor:  0\n",
      "estamos evaluando el valor:  -1\n",
      "el valor del contador es:  1\n",
      "estamos evaluando el valor:  72\n",
      "Aun no estas en el optimo, vuleve a iterar\n"
     ]
    }
   ],
   "source": [
    "iterar(2,1,tabla_1)"
   ]
  },
  {
   "cell_type": "code",
   "execution_count": 36,
   "metadata": {},
   "outputs": [
    {
     "name": "stdout",
     "output_type": "stream",
     "text": [
      "[[ 1  0  0  3  1  0 78]\n",
      " [ 0  0  1 -1  2  0 16]\n",
      " [ 0  0  0 -1  1  1  6]\n",
      " [ 0  1  0  1 -1  0  2]]\n",
      "estamos evaluando el valor:  1\n",
      "estamos evaluando el valor:  0\n",
      "estamos evaluando el valor:  0\n",
      "estamos evaluando el valor:  3\n",
      "estamos evaluando el valor:  1\n",
      "estamos evaluando el valor:  0\n",
      "estamos evaluando el valor:  78\n",
      "Has optimizado la funcion\n"
     ]
    }
   ],
   "source": [
    "iterar(5,2,tabla_1)"
   ]
  },
  {
   "cell_type": "code",
   "execution_count": 37,
   "metadata": {},
   "outputs": [
    {
     "data": {
      "text/html": [
       "<div>\n",
       "<style scoped>\n",
       "    .dataframe tbody tr th:only-of-type {\n",
       "        vertical-align: middle;\n",
       "    }\n",
       "\n",
       "    .dataframe tbody tr th {\n",
       "        vertical-align: top;\n",
       "    }\n",
       "\n",
       "    .dataframe thead th {\n",
       "        text-align: right;\n",
       "    }\n",
       "</style>\n",
       "<table border=\"1\" class=\"dataframe\">\n",
       "  <thead>\n",
       "    <tr style=\"text-align: right;\">\n",
       "      <th></th>\n",
       "      <th>Z</th>\n",
       "      <th>X1</th>\n",
       "      <th>x2</th>\n",
       "      <th>S1</th>\n",
       "      <th>S2</th>\n",
       "      <th>S3</th>\n",
       "      <th>Resultado</th>\n",
       "    </tr>\n",
       "  </thead>\n",
       "  <tbody>\n",
       "    <tr>\n",
       "      <th>Z</th>\n",
       "      <td>1</td>\n",
       "      <td>0</td>\n",
       "      <td>0</td>\n",
       "      <td>3</td>\n",
       "      <td>1</td>\n",
       "      <td>0</td>\n",
       "      <td>78</td>\n",
       "    </tr>\n",
       "    <tr>\n",
       "      <th>X2</th>\n",
       "      <td>0</td>\n",
       "      <td>0</td>\n",
       "      <td>1</td>\n",
       "      <td>-1</td>\n",
       "      <td>2</td>\n",
       "      <td>0</td>\n",
       "      <td>16</td>\n",
       "    </tr>\n",
       "    <tr>\n",
       "      <th>S3</th>\n",
       "      <td>0</td>\n",
       "      <td>0</td>\n",
       "      <td>0</td>\n",
       "      <td>-1</td>\n",
       "      <td>1</td>\n",
       "      <td>1</td>\n",
       "      <td>6</td>\n",
       "    </tr>\n",
       "    <tr>\n",
       "      <th>X1</th>\n",
       "      <td>0</td>\n",
       "      <td>1</td>\n",
       "      <td>0</td>\n",
       "      <td>1</td>\n",
       "      <td>-1</td>\n",
       "      <td>0</td>\n",
       "      <td>2</td>\n",
       "    </tr>\n",
       "  </tbody>\n",
       "</table>\n",
       "</div>"
      ],
      "text/plain": [
       "    Z  X1  x2  S1  S2  S3  Resultado\n",
       "Z   1   0   0   3   1   0         78\n",
       "X2  0   0   1  -1   2   0         16\n",
       "S3  0   0   0  -1   1   1          6\n",
       "X1  0   1   0   1  -1   0          2"
      ]
     },
     "execution_count": 37,
     "metadata": {},
     "output_type": "execute_result"
    }
   ],
   "source": [
    "    \n",
    "nombres =[\"Z\", \"X1\", \"x2\", \"S1\", \"S2\",\"S3\",\"Resultado\"]\n",
    "indice=[\"Z\",\"X2\",\"S3\", \"X1\"]\n",
    "\n",
    "df =pd.DataFrame(data = tabla_1, columns=nombres, index=indice)\n",
    "df"
   ]
  },
  {
   "cell_type": "code",
   "execution_count": 38,
   "metadata": {},
   "outputs": [
    {
     "name": "stdout",
     "output_type": "stream",
     "text": [
      "El resultado de Z es: 78\n",
      "El resultado de X2 es: 16\n",
      "El resultado de S3 es: 6\n",
      "El resultado de X1 es: 2\n"
     ]
    }
   ],
   "source": [
    "for i in range(df.shape[0]):\n",
    "    var = df.index[i]\n",
    "    resultado= df.iloc[i,6]\n",
    "    print(f\"El resultado de {var} es: {resultado}\")"
   ]
  },
  {
   "cell_type": "markdown",
   "metadata": {},
   "source": [
    "### Tabla 2"
   ]
  },
  {
   "cell_type": "code",
   "execution_count": 6,
   "metadata": {},
   "outputs": [],
   "source": [
    "from sympy import *"
   ]
  },
  {
   "cell_type": "code",
   "execution_count": 7,
   "metadata": {},
   "outputs": [],
   "source": [
    "M = Symbol(\"M\")"
   ]
  },
  {
   "cell_type": "code",
   "execution_count": 25,
   "metadata": {},
   "outputs": [
    {
     "data": {
      "text/plain": [
       "array([[1, -5, -4, 0, 0, 0, M, 0],\n",
       "       [0, 2, 1, 1, 0, 0, 0, 20],\n",
       "       [0, 1, 1, 0, 1, 0, 0, 18],\n",
       "       [0, 1, 2, 0, 0, -1, 1, 12]], dtype=object)"
      ]
     },
     "execution_count": 25,
     "metadata": {},
     "output_type": "execute_result"
    }
   ],
   "source": [
    "\n",
    "\n",
    "tabla_2 = np.array([[1,-5,-4,0,0,0,M,0],[0,2,1,1,0,0,0,20],[0,1,1,0,1,0,0,18],[0,1,2,0,0,-1,1,12]])\n",
    "tabla_2"
   ]
  },
  {
   "cell_type": "code",
   "execution_count": 26,
   "metadata": {},
   "outputs": [
    {
     "name": "stdout",
     "output_type": "stream",
     "text": [
      "[[1 -1.0*M - 5 -2.0*M - 4 0 0 1.0*M 0 -12.0*M]\n",
      " [0.0 2.0 1.0 1.0 0.0 0.0 0.0 20.0]\n",
      " [0.0 1.0 1.0 0.0 1.0 0.0 0.0 18.0]\n",
      " [0.0 1.0 2.0 0.0 0.0 -1.0 1.0 12.0]]\n",
      "no se leer la m\n",
      "no se leer la m\n",
      "no se leer la m\n",
      "no se leer la m\n",
      "Has optimizado la funcion\n"
     ]
    }
   ],
   "source": [
    "iterar(6,3,tabla_2)"
   ]
  },
  {
   "cell_type": "code",
   "execution_count": 27,
   "metadata": {},
   "outputs": [
    {
     "name": "stdout",
     "output_type": "stream",
     "text": [
      "[[1 -3.00000000000000 0 0 0 -2.00000000000000 1.0*M + 2.0\n",
      "  24.0000000000000]\n",
      " [0.0 1.5 0.0 1.0 0.0 0.5 -0.5 14.0]\n",
      " [0.0 0.5 0.0 0.0 1.0 0.5 -0.5 12.0]\n",
      " [0.0 0.5 1.0 0.0 0.0 -0.5 0.5 6.0]]\n",
      "no se leer la m\n",
      "Aun no estas en el optimo, vuleve a iterar\n"
     ]
    }
   ],
   "source": [
    "iterar(2,3,tabla_2)"
   ]
  },
  {
   "cell_type": "code",
   "execution_count": 28,
   "metadata": {},
   "outputs": [
    {
     "name": "stdout",
     "output_type": "stream",
     "text": [
      "[[1 0 0 2.00000000000000 0 -1.00000000000000 1.0*M + 1.0 52.0000000000000]\n",
      " [0.0 1.0 0.0 0.6666666666666666 0.0 0.3333333333333333\n",
      "  -0.3333333333333333 9.333333333333334]\n",
      " [0.0 0.0 0.0 -0.3333333333333333 1.0 0.33333333333333337\n",
      "  -0.33333333333333337 7.333333333333333]\n",
      " [0.0 0.0 1.0 -0.3333333333333333 0.0 -0.6666666666666666\n",
      "  0.6666666666666666 1.333333333333333]]\n",
      "no se leer la m\n",
      "Aun no estas en el optimo, vuleve a iterar\n"
     ]
    }
   ],
   "source": [
    " iterar(1,1,tabla_2)"
   ]
  },
  {
   "cell_type": "code",
   "execution_count": 41,
   "metadata": {},
   "outputs": [
    {
     "name": "stdout",
     "output_type": "stream",
     "text": [
      "[[1 0 0 1.00000000000000 3.00000000000000 0 9999 74.0000000000000]\n",
      " [0.0 1.0 0.0 0.9999999999999999 -0.9999999999999998 0.0 0.0\n",
      "  2.0000000000000018]\n",
      " [0.0 0.0 0.0 -0.9999999999999999 2.9999999999999996 1.0 -1.0\n",
      "  21.999999999999996]\n",
      " [0.0 0.0 1.0 -0.9999999999999998 1.9999999999999996 0.0 0.0\n",
      "  15.999999999999996]]\n",
      "Has optimizado la funcion\n"
     ]
    },
    {
     "data": {
      "text/plain": [
       "array([[1.0, 0.0, 0.0, 1.0, 3.0, 0.0, 9999.0, 74.0],\n",
       "       [0.0, 1.0, 0.0, 1.0, -1.0, 0.0, 0.0, 2.0],\n",
       "       [0.0, 0.0, 0.0, -1.0, 3.0, 1.0, -1.0, 22.0],\n",
       "       [0.0, 0.0, 1.0, -1.0, 2.0, 0.0, 0.0, 16.0]])"
      ]
     },
     "execution_count": 41,
     "metadata": {},
     "output_type": "execute_result"
    }
   ],
   "source": [
    "iterar(5,2,tabla_2)\n",
    "tabla_2[0][6] = 9999\n",
    "tabla_2.astype(float)"
   ]
  },
  {
   "cell_type": "code",
   "execution_count": 32,
   "metadata": {},
   "outputs": [],
   "source": [
    "np.set_printoptions(formatter={\"float\": lambda x:\"%0.1f\"%(x)})"
   ]
  },
  {
   "cell_type": "code",
   "execution_count": 260,
   "metadata": {},
   "outputs": [],
   "source": [
    "tabla_2 =tabla_2.reshape(-1)"
   ]
  },
  {
   "cell_type": "code",
   "execution_count": 310,
   "metadata": {},
   "outputs": [
    {
     "data": {
      "text/plain": [
       "[1,\n",
       " 0,\n",
       " 0,\n",
       " 1.0,\n",
       " 3.0,\n",
       " 0,\n",
       " 1.0*M,\n",
       " 74.0000000000000,\n",
       " 0.0,\n",
       " 1.0,\n",
       " 0.0,\n",
       " 1.0,\n",
       " -0.9999999999999998,\n",
       " 0.0,\n",
       " 0.0,\n",
       " 2.0000000000000018,\n",
       " 0.0,\n",
       " 0.0,\n",
       " 0.0,\n",
       " -0.9999999999999999,\n",
       " 2.9999999999999996,\n",
       " 1.0,\n",
       " -1.0,\n",
       " 21.999999999999996,\n",
       " 0.0,\n",
       " 0.0,\n",
       " 1.0,\n",
       " -0.9999999999999998,\n",
       " 1.9999999999999996,\n",
       " 0.0,\n",
       " 0.0,\n",
       " 15.999999999999996]"
      ]
     },
     "execution_count": 310,
     "metadata": {},
     "output_type": "execute_result"
    }
   ],
   "source": [
    "tabla_2=tabla_2.reshape(-1)\n",
    "lista_1 =list(tabla_2)\n",
    "lista_1"
   ]
  },
  {
   "cell_type": "code",
   "execution_count": null,
   "metadata": {},
   "outputs": [],
   "source": []
  }
 ],
 "metadata": {
  "kernelspec": {
   "display_name": "Python 3",
   "language": "python",
   "name": "python3"
  },
  "language_info": {
   "codemirror_mode": {
    "name": "ipython",
    "version": 3
   },
   "file_extension": ".py",
   "mimetype": "text/x-python",
   "name": "python",
   "nbconvert_exporter": "python",
   "pygments_lexer": "ipython3",
   "version": "3.7.7"
  }
 },
 "nbformat": 4,
 "nbformat_minor": 4
}
