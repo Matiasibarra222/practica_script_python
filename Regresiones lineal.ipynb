{
 "cells": [
  {
   "cell_type": "markdown",
   "metadata": {},
   "source": [
    "# Fundamentos practicos de machine learning"
   ]
  },
  {
   "cell_type": "markdown",
   "metadata": {},
   "source": [
    " "
   ]
  },
  {
   "cell_type": "markdown",
   "metadata": {},
   "source": [
    "### prueba 1"
   ]
  },
  {
   "cell_type": "code",
   "execution_count": 15,
   "metadata": {},
   "outputs": [],
   "source": [
    "# Importamos los modulos necesarios\n",
    "import numpy as np\n",
    "\n",
    "import pandas as pd\n",
    "import matplotlib.pyplot as plt\n",
    "from sklearn.model_selection import train_test_split\n",
    "from sklearn.linear_model import LinearRegression"
   ]
  },
  {
   "cell_type": "code",
   "execution_count": 275,
   "metadata": {},
   "outputs": [
    {
     "data": {
      "text/plain": [
       "((30, 2), Index(['Aexperiencia', 'Salario'], dtype='object'))"
      ]
     },
     "execution_count": 275,
     "metadata": {},
     "output_type": "execute_result"
    }
   ],
   "source": [
    "# cargamos los datos\n",
    "df = pd.read_csv(\"salarios_dc1975e5-393f-4b89-9b04-a2b48ce17388.csv\")\n",
    "df.shape, df.columns"
   ]
  },
  {
   "cell_type": "code",
   "execution_count": 276,
   "metadata": {},
   "outputs": [],
   "source": [
    "# Elegimos nuestras variables X e Y\n",
    "# Es importante usar esta notacion para tomar solo los valores\n",
    "x = df.iloc[:,:-1].values\n",
    "y = df.iloc[:,1:].values"
   ]
  },
  {
   "cell_type": "code",
   "execution_count": 277,
   "metadata": {},
   "outputs": [],
   "source": [
    "X_train, X_test, Y_train, Y_test =train_test_split(x,y, test_size=0.2, random_state=0)"
   ]
  },
  {
   "cell_type": "code",
   "execution_count": 278,
   "metadata": {},
   "outputs": [
    {
     "data": {
      "text/plain": [
       "LinearRegression(copy_X=True, fit_intercept=True, n_jobs=None, normalize=False)"
      ]
     },
     "execution_count": 278,
     "metadata": {},
     "output_type": "execute_result"
    }
   ],
   "source": [
    "# es todo el modelo\n",
    "reg_lin= LinearRegression()\n",
    "reg_lin.fit(X_train, Y_train)"
   ]
  },
  {
   "cell_type": "code",
   "execution_count": 279,
   "metadata": {},
   "outputs": [
    {
     "name": "stdout",
     "output_type": "stream",
     "text": [
      "(6, 1)\n"
     ]
    },
    {
     "data": {
      "text/plain": [
       "array([[27278.89445395]])"
      ]
     },
     "execution_count": 279,
     "metadata": {},
     "output_type": "execute_result"
    }
   ],
   "source": [
    "# vemos que dimension es lo que entra al predict\n",
    "print(X_test.shape)\n",
    "# creamos un array con lo que quiero probar debe ser de igual dimension\n",
    "probar = np.array([[5]])\n",
    "#pruebo el modelo\n",
    "reg_lin.predict(probar)\n"
   ]
  },
  {
   "cell_type": "markdown",
   "metadata": {},
   "source": [
    "### Prueba con datos 2\n"
   ]
  },
  {
   "cell_type": "code",
   "execution_count": 388,
   "metadata": {},
   "outputs": [
    {
     "data": {
      "text/html": [
       "<div>\n",
       "<style scoped>\n",
       "    .dataframe tbody tr th:only-of-type {\n",
       "        vertical-align: middle;\n",
       "    }\n",
       "\n",
       "    .dataframe tbody tr th {\n",
       "        vertical-align: top;\n",
       "    }\n",
       "\n",
       "    .dataframe thead th {\n",
       "        text-align: right;\n",
       "    }\n",
       "</style>\n",
       "<table border=\"1\" class=\"dataframe\">\n",
       "  <thead>\n",
       "    <tr style=\"text-align: right;\">\n",
       "      <th></th>\n",
       "      <th>salario</th>\n",
       "      <th>noasiat</th>\n",
       "      <th>gpa</th>\n",
       "      <th>postgrad</th>\n",
       "      <th>experien</th>\n",
       "    </tr>\n",
       "  </thead>\n",
       "  <tbody>\n",
       "    <tr>\n",
       "      <th>0</th>\n",
       "      <td>99026</td>\n",
       "      <td>0</td>\n",
       "      <td>3,36</td>\n",
       "      <td>0</td>\n",
       "      <td>15</td>\n",
       "    </tr>\n",
       "    <tr>\n",
       "      <th>1</th>\n",
       "      <td>69190</td>\n",
       "      <td>1</td>\n",
       "      <td>2,35</td>\n",
       "      <td>1</td>\n",
       "      <td>9</td>\n",
       "    </tr>\n",
       "    <tr>\n",
       "      <th>2</th>\n",
       "      <td>95453</td>\n",
       "      <td>1</td>\n",
       "      <td>3,33</td>\n",
       "      <td>1</td>\n",
       "      <td>10</td>\n",
       "    </tr>\n",
       "    <tr>\n",
       "      <th>3</th>\n",
       "      <td>57695</td>\n",
       "      <td>1</td>\n",
       "      <td>3,37</td>\n",
       "      <td>0</td>\n",
       "      <td>2</td>\n",
       "    </tr>\n",
       "    <tr>\n",
       "      <th>4</th>\n",
       "      <td>94364</td>\n",
       "      <td>1</td>\n",
       "      <td>3,87</td>\n",
       "      <td>1</td>\n",
       "      <td>4</td>\n",
       "    </tr>\n",
       "    <tr>\n",
       "      <th>...</th>\n",
       "      <td>...</td>\n",
       "      <td>...</td>\n",
       "      <td>...</td>\n",
       "      <td>...</td>\n",
       "      <td>...</td>\n",
       "    </tr>\n",
       "    <tr>\n",
       "      <th>105</th>\n",
       "      <td>80765</td>\n",
       "      <td>1</td>\n",
       "      <td>3,12</td>\n",
       "      <td>1</td>\n",
       "      <td>2</td>\n",
       "    </tr>\n",
       "    <tr>\n",
       "      <th>106</th>\n",
       "      <td>77081</td>\n",
       "      <td>0</td>\n",
       "      <td>3,36</td>\n",
       "      <td>0</td>\n",
       "      <td>5</td>\n",
       "    </tr>\n",
       "    <tr>\n",
       "      <th>107</th>\n",
       "      <td>60024</td>\n",
       "      <td>0</td>\n",
       "      <td>2,51</td>\n",
       "      <td>1</td>\n",
       "      <td>3</td>\n",
       "    </tr>\n",
       "    <tr>\n",
       "      <th>108</th>\n",
       "      <td>71606</td>\n",
       "      <td>1</td>\n",
       "      <td>2,89</td>\n",
       "      <td>0</td>\n",
       "      <td>8</td>\n",
       "    </tr>\n",
       "    <tr>\n",
       "      <th>109</th>\n",
       "      <td>108625</td>\n",
       "      <td>1</td>\n",
       "      <td>3,85</td>\n",
       "      <td>1</td>\n",
       "      <td>7</td>\n",
       "    </tr>\n",
       "  </tbody>\n",
       "</table>\n",
       "<p>110 rows × 5 columns</p>\n",
       "</div>"
      ],
      "text/plain": [
       "     salario  noasiat   gpa  postgrad  experien\n",
       "0      99026        0  3,36         0        15\n",
       "1      69190        1  2,35         1         9\n",
       "2      95453        1  3,33         1        10\n",
       "3      57695        1  3,37         0         2\n",
       "4      94364        1  3,87         1         4\n",
       "..       ...      ...   ...       ...       ...\n",
       "105    80765        1  3,12         1         2\n",
       "106    77081        0  3,36         0         5\n",
       "107    60024        0  2,51         1         3\n",
       "108    71606        1  2,89         0         8\n",
       "109   108625        1  3,85         1         7\n",
       "\n",
       "[110 rows x 5 columns]"
      ]
     },
     "execution_count": 388,
     "metadata": {},
     "output_type": "execute_result"
    }
   ],
   "source": [
    "#cargo el set\n",
    "df = pd.read_csv(\"compensacion-ejecutivos.csv\", sep=\";\")\n",
    "df.shape, df.columns\n",
    "df"
   ]
  },
  {
   "cell_type": "code",
   "execution_count": 389,
   "metadata": {},
   "outputs": [],
   "source": [
    "# Una de mis variables taba mal en sus datos\n",
    "n = np.array(df[\"gpa\"].iloc[:].values)\n",
    "n.reshape(-1,1)\n",
    "n=list(n)\n",
    "for i in range(len(n)):\n",
    "    n[i]=n[i].replace(\",\",\".\")\n",
    "    n[i]=float(n[i])"
   ]
  },
  {
   "cell_type": "code",
   "execution_count": 390,
   "metadata": {},
   "outputs": [
    {
     "data": {
      "text/plain": [
       "0      3.36\n",
       "1      2.35\n",
       "2      3.33\n",
       "3      3.37\n",
       "4      3.87\n",
       "       ... \n",
       "105    3.12\n",
       "106    3.36\n",
       "107    2.51\n",
       "108    2.89\n",
       "109    3.85\n",
       "Name: gpa, Length: 110, dtype: float64"
      ]
     },
     "execution_count": 390,
     "metadata": {},
     "output_type": "execute_result"
    }
   ],
   "source": [
    "#reemplazo en mi var pero solo se puede ejecutar una vez\n",
    "df[\"gpa\"]=n\n",
    "#ahora mi variable esta bien\n",
    "df[\"gpa\"]"
   ]
  },
  {
   "cell_type": "code",
   "execution_count": 391,
   "metadata": {},
   "outputs": [
    {
     "data": {
      "text/plain": [
       "array([[ 3.36, 15.  ],\n",
       "       [ 2.35,  9.  ],\n",
       "       [ 3.33, 10.  ],\n",
       "       [ 3.37,  2.  ],\n",
       "       [ 3.87,  4.  ],\n",
       "       [ 3.93, 13.  ],\n",
       "       [ 2.27, 12.  ],\n",
       "       [ 3.04, 14.  ],\n",
       "       [ 3.26,  8.  ],\n",
       "       [ 2.73,  5.  ],\n",
       "       [ 3.06,  7.  ],\n",
       "       [ 2.53, 12.  ],\n",
       "       [ 2.37,  3.  ],\n",
       "       [ 4.  ,  8.  ],\n",
       "       [ 2.53, 14.  ],\n",
       "       [ 2.87, 15.  ],\n",
       "       [ 1.86, 17.  ],\n",
       "       [ 2.71, 15.  ],\n",
       "       [ 3.38, 11.  ],\n",
       "       [ 1.94,  6.  ],\n",
       "       [ 3.28, 13.  ],\n",
       "       [ 3.75,  7.  ],\n",
       "       [ 3.07, 17.  ],\n",
       "       [ 2.79,  2.  ],\n",
       "       [ 1.93,  8.  ],\n",
       "       [ 3.1 ,  1.  ],\n",
       "       [ 3.03, 14.  ],\n",
       "       [ 2.11, 15.  ],\n",
       "       [ 2.68,  4.  ],\n",
       "       [ 2.85, 13.  ],\n",
       "       [ 3.39, 13.  ],\n",
       "       [ 2.91, 19.  ],\n",
       "       [ 2.45,  7.  ],\n",
       "       [ 4.  ,  6.  ],\n",
       "       [ 2.61, 16.  ],\n",
       "       [ 3.03, 19.  ],\n",
       "       [ 2.35, 11.  ],\n",
       "       [ 4.  ,  7.  ],\n",
       "       [ 3.14, 13.  ],\n",
       "       [ 3.44, 10.  ],\n",
       "       [ 3.27, 10.  ],\n",
       "       [ 2.57, 10.  ],\n",
       "       [ 3.29, 11.  ],\n",
       "       [ 2.43, 20.  ],\n",
       "       [ 3.11,  4.  ],\n",
       "       [ 3.33, 17.  ],\n",
       "       [ 2.82, 20.  ],\n",
       "       [ 3.08,  8.  ],\n",
       "       [ 2.84,  9.  ],\n",
       "       [ 3.07, 15.  ],\n",
       "       [ 4.  , 14.  ],\n",
       "       [ 3.8 , 17.  ],\n",
       "       [ 2.82,  4.  ],\n",
       "       [ 2.85,  6.  ],\n",
       "       [ 3.68, 13.  ],\n",
       "       [ 3.26, 13.  ],\n",
       "       [ 2.48, 14.  ],\n",
       "       [ 4.  , 16.  ],\n",
       "       [ 2.93,  2.  ],\n",
       "       [ 3.42, 12.  ],\n",
       "       [ 2.47,  6.  ],\n",
       "       [ 3.79, 11.  ],\n",
       "       [ 2.81,  8.  ],\n",
       "       [ 2.67, 10.  ],\n",
       "       [ 2.17,  7.  ],\n",
       "       [ 2.12,  4.  ],\n",
       "       [ 3.48, 11.  ],\n",
       "       [ 3.82,  5.  ],\n",
       "       [ 2.68,  8.  ],\n",
       "       [ 2.85,  4.  ],\n",
       "       [ 2.6 , 12.  ],\n",
       "       [ 3.06, 14.  ],\n",
       "       [ 2.86, 12.  ],\n",
       "       [ 3.68, 15.  ],\n",
       "       [ 3.54,  2.  ],\n",
       "       [ 3.53, 11.  ],\n",
       "       [ 3.25, 12.  ],\n",
       "       [ 2.65,  4.  ],\n",
       "       [ 2.8 ,  7.  ],\n",
       "       [ 3.04, 18.  ],\n",
       "       [ 3.26,  3.  ],\n",
       "       [ 3.55, 10.  ],\n",
       "       [ 2.82, 15.  ],\n",
       "       [ 2.85, 14.  ],\n",
       "       [ 3.46, 12.  ],\n",
       "       [ 2.99, 12.  ],\n",
       "       [ 2.94,  4.  ],\n",
       "       [ 2.73,  8.  ],\n",
       "       [ 2.65,  8.  ],\n",
       "       [ 3.64, 15.  ],\n",
       "       [ 2.36, 15.  ],\n",
       "       [ 2.52, 15.  ],\n",
       "       [ 3.39,  3.  ],\n",
       "       [ 3.89, 12.  ],\n",
       "       [ 2.53,  4.  ],\n",
       "       [ 3.21,  8.  ],\n",
       "       [ 2.56, 17.  ],\n",
       "       [ 2.93,  8.  ],\n",
       "       [ 2.66,  8.  ],\n",
       "       [ 2.79,  8.  ],\n",
       "       [ 2.91,  5.  ],\n",
       "       [ 2.32, 10.  ],\n",
       "       [ 2.31,  2.  ],\n",
       "       [ 3.56, 14.  ],\n",
       "       [ 2.01,  4.  ],\n",
       "       [ 3.12,  2.  ],\n",
       "       [ 3.36,  5.  ],\n",
       "       [ 2.51,  3.  ],\n",
       "       [ 2.89,  8.  ],\n",
       "       [ 3.85,  7.  ]])"
      ]
     },
     "execution_count": 391,
     "metadata": {},
     "output_type": "execute_result"
    }
   ],
   "source": [
    "#defino mis variables\n",
    "x = df.iloc[:,2:].values\n",
    "y = df.iloc[:,0].values\n",
    "# selccionamos nuevas variables para x\n",
    "x_1 = df.iloc[:,2].values\n",
    "x_2 = df.iloc[:,4].values\n",
    "x_3= pd.DataFrame({'x_1':x_1, 'x_2': x_2})\n",
    "x= x_3.iloc[:,:].values\n",
    "x"
   ]
  },
  {
   "cell_type": "code",
   "execution_count": 392,
   "metadata": {},
   "outputs": [],
   "source": [
    "# hago el entrenamiento \n",
    "X_train, X_test, Y_train, Y_test = train_test_split(x,y, test_size=0.3, random_state=0)"
   ]
  },
  {
   "cell_type": "code",
   "execution_count": 393,
   "metadata": {},
   "outputs": [
    {
     "data": {
      "text/plain": [
       "LinearRegression(copy_X=True, fit_intercept=True, n_jobs=None, normalize=False)"
      ]
     },
     "execution_count": 393,
     "metadata": {},
     "output_type": "execute_result"
    }
   ],
   "source": [
    "# creo el modelo\n",
    "reg_lin= LinearRegression()\n",
    "reg_lin.fit(X_train, Y_train)"
   ]
  },
  {
   "cell_type": "code",
   "execution_count": 394,
   "metadata": {},
   "outputs": [
    {
     "name": "stdout",
     "output_type": "stream",
     "text": [
      "(33, 2)\n"
     ]
    },
    {
     "data": {
      "text/plain": [
       "array([96088.13529746])"
      ]
     },
     "execution_count": 394,
     "metadata": {},
     "output_type": "execute_result"
    }
   ],
   "source": [
    "# reviso que entra a predict\n",
    "print(X_test.shape)\n",
    "#creo mi prueba\n",
    "prueba =np.array([[4.2,3.1 ]])\n",
    "#COmpruebo que mis dimensiones sean iguales\n",
    "prueba.shape\n",
    "#realizo el test\n",
    "reg_lin.predict(prueba)"
   ]
  },
  {
   "cell_type": "code",
   "execution_count": 395,
   "metadata": {},
   "outputs": [
    {
     "data": {
      "text/plain": [
       "0.7481197579142014"
      ]
     },
     "execution_count": 395,
     "metadata": {},
     "output_type": "execute_result"
    }
   ],
   "source": [
    "#probar el model\n",
    "reg_lin.score(X_test, Y_test)"
   ]
  },
  {
   "cell_type": "markdown",
   "metadata": {},
   "source": [
    " \n"
   ]
  },
  {
   "cell_type": "markdown",
   "metadata": {},
   "source": [
    "# Estadistica con python\n"
   ]
  },
  {
   "cell_type": "markdown",
   "metadata": {},
   "source": [
    " "
   ]
  },
  {
   "cell_type": "markdown",
   "metadata": {},
   "source": [
    "### prueba 1"
   ]
  },
  {
   "cell_type": "code",
   "execution_count": 1,
   "metadata": {},
   "outputs": [],
   "source": [
    "#importamos los modelos necesarios \n",
    "import pandas as pd\n",
    "import numpy as np\n",
    "import statsmodels.api as sm\n",
    "from sklearn import linear_model\n",
    "from sklearn.metrics import mean_squared_error, r2_score\n",
    "from sklearn import metrics"
   ]
  },
  {
   "cell_type": "code",
   "execution_count": 3,
   "metadata": {},
   "outputs": [
    {
     "data": {
      "text/plain": [
       "((155, 12),\n",
       " Index(['country', 'rank', 'score', 'high', 'low', 'gdp', 'family', 'lifexp',\n",
       "        'freedom', 'generosity', 'corruption', 'dystopia'],\n",
       "       dtype='object'))"
      ]
     },
     "execution_count": 3,
     "metadata": {},
     "output_type": "execute_result"
    }
   ],
   "source": [
    "#cargamos los datos\n",
    "\n",
    "df = pd.read_csv(\"felicidad_b0b50c6d-41dd-4ea8-a4f0-92a8068d4d3e.csv\")\n",
    "df.shape, df.columns"
   ]
  },
  {
   "cell_type": "code",
   "execution_count": 6,
   "metadata": {},
   "outputs": [],
   "source": [
    "#asignamos variables \n",
    "\n",
    "x = df[[\"gdp\", \"family\", \"lifexp\", \"freedom\", \"corruption\", \"generosity\", \"dystopia\"]]\n",
    "y = df[[\"score\"]] \n",
    "    "
   ]
  },
  {
   "cell_type": "code",
   "execution_count": 7,
   "metadata": {},
   "outputs": [],
   "source": [
    "# Creamos el modelo\n",
    "reg_lin = sm.OLS(y, sm.add_constant(x) ).fit()"
   ]
  },
  {
   "cell_type": "code",
   "execution_count": 8,
   "metadata": {},
   "outputs": [
    {
     "data": {
      "text/html": [
       "<table class=\"simpletable\">\n",
       "<caption>OLS Regression Results</caption>\n",
       "<tr>\n",
       "  <th>Dep. Variable:</th>          <td>score</td>      <th>  R-squared:         </th> <td>   1.000</td> \n",
       "</tr>\n",
       "<tr>\n",
       "  <th>Model:</th>                   <td>OLS</td>       <th>  Adj. R-squared:    </th> <td>   1.000</td> \n",
       "</tr>\n",
       "<tr>\n",
       "  <th>Method:</th>             <td>Least Squares</td>  <th>  F-statistic:       </th> <td>3.442e+08</td>\n",
       "</tr>\n",
       "<tr>\n",
       "  <th>Date:</th>             <td>Wed, 12 Feb 2020</td> <th>  Prob (F-statistic):</th>  <td>  0.00</td>  \n",
       "</tr>\n",
       "<tr>\n",
       "  <th>Time:</th>                 <td>19:22:34</td>     <th>  Log-Likelihood:    </th> <td>  1048.9</td> \n",
       "</tr>\n",
       "<tr>\n",
       "  <th>No. Observations:</th>      <td>   155</td>      <th>  AIC:               </th> <td>  -2082.</td> \n",
       "</tr>\n",
       "<tr>\n",
       "  <th>Df Residuals:</th>          <td>   147</td>      <th>  BIC:               </th> <td>  -2057.</td> \n",
       "</tr>\n",
       "<tr>\n",
       "  <th>Df Model:</th>              <td>     7</td>      <th>                     </th>     <td> </td>    \n",
       "</tr>\n",
       "<tr>\n",
       "  <th>Covariance Type:</th>      <td>nonrobust</td>    <th>                     </th>     <td> </td>    \n",
       "</tr>\n",
       "</table>\n",
       "<table class=\"simpletable\">\n",
       "<tr>\n",
       "       <td></td>         <th>coef</th>     <th>std err</th>      <th>t</th>      <th>P>|t|</th>  <th>[0.025</th>    <th>0.975]</th>  \n",
       "</tr>\n",
       "<tr>\n",
       "  <th>const</th>      <td>    0.0002</td> <td>    0.000</td> <td>    1.171</td> <td> 0.243</td> <td>   -0.000</td> <td>    0.000</td>\n",
       "</tr>\n",
       "<tr>\n",
       "  <th>gdp</th>        <td>    1.0001</td> <td>    0.000</td> <td> 8513.538</td> <td> 0.000</td> <td>    1.000</td> <td>    1.000</td>\n",
       "</tr>\n",
       "<tr>\n",
       "  <th>family</th>     <td>    0.9999</td> <td>    0.000</td> <td> 8637.659</td> <td> 0.000</td> <td>    1.000</td> <td>    1.000</td>\n",
       "</tr>\n",
       "<tr>\n",
       "  <th>lifexp</th>     <td>    0.9999</td> <td>    0.000</td> <td> 5419.877</td> <td> 0.000</td> <td>    1.000</td> <td>    1.000</td>\n",
       "</tr>\n",
       "<tr>\n",
       "  <th>freedom</th>    <td>    1.0000</td> <td>    0.000</td> <td> 5069.249</td> <td> 0.000</td> <td>    1.000</td> <td>    1.000</td>\n",
       "</tr>\n",
       "<tr>\n",
       "  <th>corruption</th> <td>    0.9998</td> <td>    0.000</td> <td> 3605.631</td> <td> 0.000</td> <td>    0.999</td> <td>    1.000</td>\n",
       "</tr>\n",
       "<tr>\n",
       "  <th>generosity</th> <td>    1.0002</td> <td>    0.000</td> <td> 5245.012</td> <td> 0.000</td> <td>    1.000</td> <td>    1.001</td>\n",
       "</tr>\n",
       "<tr>\n",
       "  <th>dystopia</th>   <td>    1.0000</td> <td>  4.7e-05</td> <td> 2.13e+04</td> <td> 0.000</td> <td>    1.000</td> <td>    1.000</td>\n",
       "</tr>\n",
       "</table>\n",
       "<table class=\"simpletable\">\n",
       "<tr>\n",
       "  <th>Omnibus:</th>       <td>49.955</td> <th>  Durbin-Watson:     </th> <td>   2.035</td>\n",
       "</tr>\n",
       "<tr>\n",
       "  <th>Prob(Omnibus):</th> <td> 0.000</td> <th>  Jarque-Bera (JB):  </th> <td>   8.708</td>\n",
       "</tr>\n",
       "<tr>\n",
       "  <th>Skew:</th>          <td>-0.079</td> <th>  Prob(JB):          </th> <td>  0.0129</td>\n",
       "</tr>\n",
       "<tr>\n",
       "  <th>Kurtosis:</th>      <td> 1.850</td> <th>  Cond. No.          </th> <td>    35.8</td>\n",
       "</tr>\n",
       "</table><br/><br/>Warnings:<br/>[1] Standard Errors assume that the covariance matrix of the errors is correctly specified."
      ],
      "text/plain": [
       "<class 'statsmodels.iolib.summary.Summary'>\n",
       "\"\"\"\n",
       "                            OLS Regression Results                            \n",
       "==============================================================================\n",
       "Dep. Variable:                  score   R-squared:                       1.000\n",
       "Model:                            OLS   Adj. R-squared:                  1.000\n",
       "Method:                 Least Squares   F-statistic:                 3.442e+08\n",
       "Date:                Wed, 12 Feb 2020   Prob (F-statistic):               0.00\n",
       "Time:                        19:22:34   Log-Likelihood:                 1048.9\n",
       "No. Observations:                 155   AIC:                            -2082.\n",
       "Df Residuals:                     147   BIC:                            -2057.\n",
       "Df Model:                           7                                         \n",
       "Covariance Type:            nonrobust                                         \n",
       "==============================================================================\n",
       "                 coef    std err          t      P>|t|      [0.025      0.975]\n",
       "------------------------------------------------------------------------------\n",
       "const          0.0002      0.000      1.171      0.243      -0.000       0.000\n",
       "gdp            1.0001      0.000   8513.538      0.000       1.000       1.000\n",
       "family         0.9999      0.000   8637.659      0.000       1.000       1.000\n",
       "lifexp         0.9999      0.000   5419.877      0.000       1.000       1.000\n",
       "freedom        1.0000      0.000   5069.249      0.000       1.000       1.000\n",
       "corruption     0.9998      0.000   3605.631      0.000       0.999       1.000\n",
       "generosity     1.0002      0.000   5245.012      0.000       1.000       1.001\n",
       "dystopia       1.0000    4.7e-05   2.13e+04      0.000       1.000       1.000\n",
       "==============================================================================\n",
       "Omnibus:                       49.955   Durbin-Watson:                   2.035\n",
       "Prob(Omnibus):                  0.000   Jarque-Bera (JB):                8.708\n",
       "Skew:                          -0.079   Prob(JB):                       0.0129\n",
       "Kurtosis:                       1.850   Cond. No.                         35.8\n",
       "==============================================================================\n",
       "\n",
       "Warnings:\n",
       "[1] Standard Errors assume that the covariance matrix of the errors is correctly specified.\n",
       "\"\"\""
      ]
     },
     "execution_count": 8,
     "metadata": {},
     "output_type": "execute_result"
    }
   ],
   "source": [
    "reg_lin.summary()"
   ]
  },
  {
   "cell_type": "code",
   "execution_count": 401,
   "metadata": {},
   "outputs": [
    {
     "data": {
      "text/plain": [
       "array([27517.89696649])"
      ]
     },
     "execution_count": 401,
     "metadata": {},
     "output_type": "execute_result"
    }
   ],
   "source": [
    "# muestro la dimension de lo que entra a predict\n",
    "sm.add_constant(x).shape\n",
    "#creo la nueva matriz a probar\n",
    "probar = [1,5]\n",
    "#pruebo el modelo\n",
    "reg_lin.predict(probar)\n"
   ]
  },
  {
   "cell_type": "markdown",
   "metadata": {},
   "source": [
    " "
   ]
  },
  {
   "cell_type": "markdown",
   "metadata": {},
   "source": [
    "### Prueba 2"
   ]
  },
  {
   "cell_type": "code",
   "execution_count": 402,
   "metadata": {},
   "outputs": [],
   "source": [
    "import statsmodels.api as sm\n",
    "from sklearn import linear_model\n",
    "from sklearn.metrics import mean_squared_error, r2_score\n",
    "from sklearn import metrics"
   ]
  },
  {
   "cell_type": "code",
   "execution_count": 403,
   "metadata": {},
   "outputs": [
    {
     "data": {
      "text/plain": [
       "((110, 5),\n",
       " Index(['salario', 'noasiat', 'gpa', 'postgrad', 'experien'], dtype='object'))"
      ]
     },
     "execution_count": 403,
     "metadata": {},
     "output_type": "execute_result"
    }
   ],
   "source": [
    "# cargo los datos\n",
    "df = pd.read_csv(\"compensacion-ejecutivos.csv\", sep=\";\")\n",
    "df.shape, df.columns"
   ]
  },
  {
   "cell_type": "code",
   "execution_count": 404,
   "metadata": {},
   "outputs": [],
   "source": [
    "\n",
    "n = np.array(df[\"gpa\"].iloc[:].values)\n",
    "n.reshape(-1,1)\n",
    "n=list(n)\n",
    "for i in range(len(n)):\n",
    "    n[i]=n[i].replace(\",\",\".\")\n",
    "    n[i]=float(n[i])\n",
    "df[\"gpa\"]=n"
   ]
  },
  {
   "cell_type": "code",
   "execution_count": 405,
   "metadata": {},
   "outputs": [],
   "source": [
    "#seleccion de variables \n",
    "y = df[\"salario\"]\n",
    "x = df.drop(['salario', 'noasiat',  'postgrad', ],axis =1)"
   ]
  },
  {
   "cell_type": "code",
   "execution_count": 406,
   "metadata": {},
   "outputs": [],
   "source": [
    "# creo el modelo\n",
    "reg_lin = sm.OLS(y, sm.add_constant(x) ).fit()"
   ]
  },
  {
   "cell_type": "code",
   "execution_count": 408,
   "metadata": {},
   "outputs": [
    {
     "data": {
      "text/plain": [
       "array([96074.05771139])"
      ]
     },
     "execution_count": 408,
     "metadata": {},
     "output_type": "execute_result"
    }
   ],
   "source": [
    "#dimensiones\n",
    "sm.add_constant(x).shape\n",
    "# pruebo el modelo\n",
    "reg_lin.predict([1,4.2,3.1 ])"
   ]
  },
  {
   "cell_type": "markdown",
   "metadata": {},
   "source": [
    " "
   ]
  },
  {
   "cell_type": "markdown",
   "metadata": {},
   "source": [
    "# Introduccion a machine learning"
   ]
  },
  {
   "cell_type": "markdown",
   "metadata": {},
   "source": [
    " "
   ]
  },
  {
   "cell_type": "markdown",
   "metadata": {},
   "source": [
    "### Prueba 1"
   ]
  },
  {
   "cell_type": "code",
   "execution_count": 470,
   "metadata": {},
   "outputs": [],
   "source": [
    "import torch\n",
    "import torch.nn as nn\n",
    "import torch.optim as optim\n",
    "import matplotlib.pyplot as plt\n",
    "import numpy as np\n"
   ]
  },
  {
   "cell_type": "code",
   "execution_count": 494,
   "metadata": {},
   "outputs": [
    {
     "data": {
      "text/plain": [
       "array([[1.0000e+01, 4.2500e+04],\n",
       "       [8.0000e+00, 3.6302e+04],\n",
       "       [5.4000e+00, 3.5000e+04],\n",
       "       [2.5000e+00, 1.8103e+04],\n",
       "       [1.0000e+00, 1.5000e+04],\n",
       "       [8.0000e+00, 3.7000e+04],\n",
       "       [4.0000e+00, 2.6300e+04],\n",
       "       [6.0000e+00, 3.5201e+04],\n",
       "       [2.0000e+00, 1.8302e+04],\n",
       "       [1.0000e+01, 4.2000e+04],\n",
       "       [4.0000e+00, 2.7000e+04],\n",
       "       [7.0000e+00, 3.5201e+04],\n",
       "       [3.0000e+00, 1.9201e+04],\n",
       "       [5.0000e+00, 2.8000e+04],\n",
       "       [2.0000e+00, 1.7000e+04],\n",
       "       [5.0000e+00, 3.3402e+04],\n",
       "       [3.0000e+00, 1.9000e+04],\n",
       "       [2.0000e+00, 1.8200e+04],\n",
       "       [3.0000e+00, 1.9000e+04],\n",
       "       [2.0000e+00, 1.7301e+04],\n",
       "       [5.0000e+00, 2.8000e+04],\n",
       "       [3.4000e+00, 2.0000e+04],\n",
       "       [5.3000e+00, 2.7900e+04],\n",
       "       [2.1000e+00, 1.7500e+04],\n",
       "       [9.2000e+00, 4.0000e+04],\n",
       "       [1.0000e+01, 4.2500e+04],\n",
       "       [3.2000e+00, 1.8300e+04],\n",
       "       [1.0000e+01, 4.0000e+04],\n",
       "       [4.0000e+00, 2.5000e+04],\n",
       "       [1.0000e+00, 1.5000e+04]])"
      ]
     },
     "execution_count": 494,
     "metadata": {},
     "output_type": "execute_result"
    }
   ],
   "source": [
    "#cargamos los datos y trasnformamos de pandas a array a torch\n",
    "df = pd.read_csv(\"salarios_dc1975e5-393f-4b89-9b04-a2b48ce17388.csv\")\n",
    "\n",
    "df.values\n"
   ]
  },
  {
   "cell_type": "code",
   "execution_count": 489,
   "metadata": {},
   "outputs": [
    {
     "ename": "AttributeError",
     "evalue": "'Series' object has no attribute 'ca'",
     "output_type": "error",
     "traceback": [
      "\u001b[1;31m---------------------------------------------------------------------------\u001b[0m",
      "\u001b[1;31mAttributeError\u001b[0m                            Traceback (most recent call last)",
      "\u001b[1;32m<ipython-input-489-017d2656ae0b>\u001b[0m in \u001b[0;36m<module>\u001b[1;34m\u001b[0m\n\u001b[0;32m      1\u001b[0m \u001b[1;31m#asignamos las variables\u001b[0m\u001b[1;33m\u001b[0m\u001b[1;33m\u001b[0m\u001b[1;33m\u001b[0m\u001b[0m\n\u001b[1;32m----> 2\u001b[1;33m \u001b[0mx\u001b[0m\u001b[1;33m=\u001b[0m \u001b[0mdf\u001b[0m\u001b[1;33m[\u001b[0m\u001b[1;34m\"Aexperiencia\"\u001b[0m\u001b[1;33m]\u001b[0m\u001b[1;33m.\u001b[0m\u001b[0miloc\u001b[0m\u001b[1;33m[\u001b[0m\u001b[1;33m:\u001b[0m\u001b[1;33m]\u001b[0m\u001b[1;33m.\u001b[0m\u001b[0mca\u001b[0m\u001b[1;33m\u001b[0m\u001b[1;33m\u001b[0m\u001b[0m\n\u001b[0m\u001b[0;32m      3\u001b[0m \u001b[0my\u001b[0m\u001b[1;33m=\u001b[0m \u001b[0mdf\u001b[0m\u001b[1;33m[\u001b[0m\u001b[1;34m\"Salario\"\u001b[0m\u001b[1;33m]\u001b[0m\u001b[1;33m.\u001b[0m\u001b[0miloc\u001b[0m\u001b[1;33m[\u001b[0m\u001b[1;33m:\u001b[0m\u001b[1;33m]\u001b[0m\u001b[1;33m.\u001b[0m\u001b[0mvalues\u001b[0m\u001b[1;33m\u001b[0m\u001b[1;33m\u001b[0m\u001b[0m\n\u001b[0;32m      4\u001b[0m \u001b[0my\u001b[0m\u001b[1;33m\u001b[0m\u001b[1;33m\u001b[0m\u001b[0m\n",
      "\u001b[1;32m~\\Anaconda3\\envs\\ml\\lib\\site-packages\\pandas\\core\\generic.py\u001b[0m in \u001b[0;36m__getattr__\u001b[1;34m(self, name)\u001b[0m\n\u001b[0;32m   5271\u001b[0m             \u001b[1;32mif\u001b[0m \u001b[0mself\u001b[0m\u001b[1;33m.\u001b[0m\u001b[0m_info_axis\u001b[0m\u001b[1;33m.\u001b[0m\u001b[0m_can_hold_identifiers_and_holds_name\u001b[0m\u001b[1;33m(\u001b[0m\u001b[0mname\u001b[0m\u001b[1;33m)\u001b[0m\u001b[1;33m:\u001b[0m\u001b[1;33m\u001b[0m\u001b[1;33m\u001b[0m\u001b[0m\n\u001b[0;32m   5272\u001b[0m                 \u001b[1;32mreturn\u001b[0m \u001b[0mself\u001b[0m\u001b[1;33m[\u001b[0m\u001b[0mname\u001b[0m\u001b[1;33m]\u001b[0m\u001b[1;33m\u001b[0m\u001b[1;33m\u001b[0m\u001b[0m\n\u001b[1;32m-> 5273\u001b[1;33m             \u001b[1;32mreturn\u001b[0m \u001b[0mobject\u001b[0m\u001b[1;33m.\u001b[0m\u001b[0m__getattribute__\u001b[0m\u001b[1;33m(\u001b[0m\u001b[0mself\u001b[0m\u001b[1;33m,\u001b[0m \u001b[0mname\u001b[0m\u001b[1;33m)\u001b[0m\u001b[1;33m\u001b[0m\u001b[1;33m\u001b[0m\u001b[0m\n\u001b[0m\u001b[0;32m   5274\u001b[0m \u001b[1;33m\u001b[0m\u001b[0m\n\u001b[0;32m   5275\u001b[0m     \u001b[1;32mdef\u001b[0m \u001b[0m__setattr__\u001b[0m\u001b[1;33m(\u001b[0m\u001b[0mself\u001b[0m\u001b[1;33m,\u001b[0m \u001b[0mname\u001b[0m\u001b[1;33m:\u001b[0m \u001b[0mstr\u001b[0m\u001b[1;33m,\u001b[0m \u001b[0mvalue\u001b[0m\u001b[1;33m)\u001b[0m \u001b[1;33m->\u001b[0m \u001b[1;32mNone\u001b[0m\u001b[1;33m:\u001b[0m\u001b[1;33m\u001b[0m\u001b[1;33m\u001b[0m\u001b[0m\n",
      "\u001b[1;31mAttributeError\u001b[0m: 'Series' object has no attribute 'ca'"
     ]
    }
   ],
   "source": [
    "#asignamos las variables\n",
    "x= df[\"Aexperiencia\"].iloc[:].ca\n",
    "y= df[\"Salario\"].iloc[:].values\n",
    "y"
   ]
  },
  {
   "cell_type": "code",
   "execution_count": null,
   "metadata": {},
   "outputs": [],
   "source": []
  }
 ],
 "metadata": {
  "kernelspec": {
   "display_name": "Python 3",
   "language": "python",
   "name": "python3"
  },
  "language_info": {
   "codemirror_mode": {
    "name": "ipython",
    "version": 3
   },
   "file_extension": ".py",
   "mimetype": "text/x-python",
   "name": "python",
   "nbconvert_exporter": "python",
   "pygments_lexer": "ipython3",
   "version": "3.7.7"
  }
 },
 "nbformat": 4,
 "nbformat_minor": 4
}
